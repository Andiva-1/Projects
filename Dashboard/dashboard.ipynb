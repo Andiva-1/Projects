{
 "cells": [
  {
   "cell_type": "markdown",
   "id": "d1dca0c7",
   "metadata": {},
   "source": [
    "# Дашборд для Яндекс.Дзен\n",
    "Вы работаете аналитиком в Яндекс.Дзене. Почти всё ваше время занимает анализ пользовательского взаимодействия с карточками статей.\\\n",
    "Каждую неделю нужно предоставлять информацию по следующим вопросам:\n",
    "\n",
    "    Сколько взаимодействий пользователей с карточками происходит в системе с разбивкой по темам карточек?\n",
    "    Как много карточек генерируют источники с разными темами?\n",
    "    Как соотносятся темы карточек и темы источников?\n",
    "\n",
    "**Цель работы:** создание дашборда для последуюшей автоматизации создания отчётов.\n",
    "\n",
    "**Работа пройдёт в пять этапов:**\n",
    "\n",
    "    Выполнение sql-запрос для получения нужного датасета.\n",
    "    Изучение и проверка данных.\n",
    "    Экспорт датасета как csv файла.\n",
    "    Создание дашборда в Tableau.\n",
    "    Создание краткой презентации."
   ]
  },
  {
   "cell_type": "code",
   "execution_count": 1,
   "id": "f2d672ea",
   "metadata": {},
   "outputs": [],
   "source": [
    "# импортируем библиотеки\n",
    "import pandas as pd\n",
    "from sqlalchemy import create_engine"
   ]
  },
  {
   "cell_type": "markdown",
   "id": "5922ebd5",
   "metadata": {},
   "source": [
    "Создадим функцию для проверки датасета:"
   ]
  },
  {
   "cell_type": "code",
   "execution_count": 2,
   "id": "f3ee1590",
   "metadata": {},
   "outputs": [],
   "source": [
    "def checking_data(data):\n",
    "    \"\"\"\n",
    "    Производит набор операций, необходимых для изучения dataframe: head, describe, info, duplicated, unique\n",
    "    \"\"\"\n",
    "    print('Обзор данных:')\n",
    "    display(data.head())\n",
    "    print('Краткий обзор набора данных:\\n')\n",
    "    data.info()\n",
    "    print()\n",
    "    print('Количество пропусков в данных:\\n', data.isna().sum())\n",
    "    print()\n",
    "    print('Количество дубликатов в данных:', data.duplicated().sum())\n",
    "    print()\n",
    "    print('Уникальные значения по возрастанию в начале и конце столбцов:')\n",
    "    for column in data:#создадим цикл для автоматизированного ввода названий колонок\n",
    "        try: # обезопасим код\n",
    "            print(column,':\\n', sorted(data[column].unique())[:10], 'Конец списка:',sorted(data[column].unique())[-10:], '\\n', \n",
    "'Количество уникальных значений в',column, '-', data[column].nunique(dropna = True), '\\n')\n",
    "        except:\n",
    "            print(column,'Сортировка невозможна!', 'Количество уникальных значений в',column, data[column].nunique(), '\\n')\n",
    "            if len(data[column].unique()) < 50:\n",
    "                print(column,':\\n', data[column].unique(), '\\n')\n",
    "\n",
    "    print()\n",
    "    print('Cписок характерных значений данных:')\n",
    "    display(round(data.describe(), 1)) "
   ]
  },
  {
   "cell_type": "code",
   "execution_count": 3,
   "id": "36c1a3fc",
   "metadata": {},
   "outputs": [],
   "source": [
    "#соединяемся с базой\n",
    "db_config = {'user': 'praktikum_student', # имя пользователя\n",
    "            'pwd': '************', # пароль\n",
    "            'host': 'rc1b-wcoijxj3yxfsf3fs.mdb.yandexcloud.net',\n",
    "            'port': 6432, # порт подключения\n",
    "            'db': 'data-analyst-zen-project-db'} # название базы данных\n",
    "\n",
    "connection_string = 'postgresql://{}:{}@{}:{}/{}'.format(db_config['user'],\n",
    "                                                db_config['pwd'],\n",
    "                                                db_config['host'],\n",
    "                                                db_config['port'],\n",
    "                                                db_config['db'])\n",
    "\n",
    "engine = create_engine(connection_string)"
   ]
  },
  {
   "cell_type": "code",
   "execution_count": 4,
   "id": "1cf0a58b",
   "metadata": {},
   "outputs": [],
   "source": [
    "#Выполняем sql-запрос\n",
    "\n",
    "query = ''' SELECT * \n",
    "            FROM dash_visits\n",
    "        '''\n",
    "dash_visits = pd.io.sql.read_sql(query, con = engine)"
   ]
  },
  {
   "cell_type": "markdown",
   "id": "7432f534",
   "metadata": {},
   "source": [
    "Просматриваем полученные данные:"
   ]
  },
  {
   "cell_type": "code",
   "execution_count": 5,
   "id": "3572ebd3",
   "metadata": {},
   "outputs": [
    {
     "name": "stdout",
     "output_type": "stream",
     "text": [
      "Обзор данных:\n"
     ]
    },
    {
     "data": {
      "text/html": [
       "<div>\n",
       "<style scoped>\n",
       "    .dataframe tbody tr th:only-of-type {\n",
       "        vertical-align: middle;\n",
       "    }\n",
       "\n",
       "    .dataframe tbody tr th {\n",
       "        vertical-align: top;\n",
       "    }\n",
       "\n",
       "    .dataframe thead th {\n",
       "        text-align: right;\n",
       "    }\n",
       "</style>\n",
       "<table border=\"1\" class=\"dataframe\">\n",
       "  <thead>\n",
       "    <tr style=\"text-align: right;\">\n",
       "      <th></th>\n",
       "      <th>record_id</th>\n",
       "      <th>item_topic</th>\n",
       "      <th>source_topic</th>\n",
       "      <th>age_segment</th>\n",
       "      <th>dt</th>\n",
       "      <th>visits</th>\n",
       "    </tr>\n",
       "  </thead>\n",
       "  <tbody>\n",
       "    <tr>\n",
       "      <th>0</th>\n",
       "      <td>1040597</td>\n",
       "      <td>Деньги</td>\n",
       "      <td>Авто</td>\n",
       "      <td>18-25</td>\n",
       "      <td>2019-09-24 18:32:00</td>\n",
       "      <td>3</td>\n",
       "    </tr>\n",
       "    <tr>\n",
       "      <th>1</th>\n",
       "      <td>1040598</td>\n",
       "      <td>Деньги</td>\n",
       "      <td>Авто</td>\n",
       "      <td>18-25</td>\n",
       "      <td>2019-09-24 18:35:00</td>\n",
       "      <td>1</td>\n",
       "    </tr>\n",
       "    <tr>\n",
       "      <th>2</th>\n",
       "      <td>1040599</td>\n",
       "      <td>Деньги</td>\n",
       "      <td>Авто</td>\n",
       "      <td>18-25</td>\n",
       "      <td>2019-09-24 18:54:00</td>\n",
       "      <td>4</td>\n",
       "    </tr>\n",
       "    <tr>\n",
       "      <th>3</th>\n",
       "      <td>1040600</td>\n",
       "      <td>Деньги</td>\n",
       "      <td>Авто</td>\n",
       "      <td>18-25</td>\n",
       "      <td>2019-09-24 18:55:00</td>\n",
       "      <td>17</td>\n",
       "    </tr>\n",
       "    <tr>\n",
       "      <th>4</th>\n",
       "      <td>1040601</td>\n",
       "      <td>Деньги</td>\n",
       "      <td>Авто</td>\n",
       "      <td>18-25</td>\n",
       "      <td>2019-09-24 18:56:00</td>\n",
       "      <td>27</td>\n",
       "    </tr>\n",
       "  </tbody>\n",
       "</table>\n",
       "</div>"
      ],
      "text/plain": [
       "   record_id item_topic source_topic age_segment                  dt  visits\n",
       "0    1040597     Деньги         Авто       18-25 2019-09-24 18:32:00       3\n",
       "1    1040598     Деньги         Авто       18-25 2019-09-24 18:35:00       1\n",
       "2    1040599     Деньги         Авто       18-25 2019-09-24 18:54:00       4\n",
       "3    1040600     Деньги         Авто       18-25 2019-09-24 18:55:00      17\n",
       "4    1040601     Деньги         Авто       18-25 2019-09-24 18:56:00      27"
      ]
     },
     "metadata": {},
     "output_type": "display_data"
    },
    {
     "name": "stdout",
     "output_type": "stream",
     "text": [
      "Краткий обзор набора данных:\n",
      "\n",
      "<class 'pandas.core.frame.DataFrame'>\n",
      "RangeIndex: 30745 entries, 0 to 30744\n",
      "Data columns (total 6 columns):\n",
      " #   Column        Non-Null Count  Dtype         \n",
      "---  ------        --------------  -----         \n",
      " 0   record_id     30745 non-null  int64         \n",
      " 1   item_topic    30745 non-null  object        \n",
      " 2   source_topic  30745 non-null  object        \n",
      " 3   age_segment   30745 non-null  object        \n",
      " 4   dt            30745 non-null  datetime64[ns]\n",
      " 5   visits        30745 non-null  int64         \n",
      "dtypes: datetime64[ns](1), int64(2), object(3)\n",
      "memory usage: 1.4+ MB\n",
      "\n",
      "Количество пропусков в данных:\n",
      " record_id       0\n",
      "item_topic      0\n",
      "source_topic    0\n",
      "age_segment     0\n",
      "dt              0\n",
      "visits          0\n",
      "dtype: int64\n",
      "\n",
      "Количество дубликатов в данных: 0\n",
      "\n",
      "Уникальные значения по возрастанию в начале и конце столбцов:\n",
      "record_id :\n",
      " [1040597, 1040598, 1040599, 1040600, 1040601, 1040602, 1040603, 1040604, 1040605, 1040606] Конец списка: [1071332, 1071333, 1071334, 1071335, 1071336, 1071337, 1071338, 1071339, 1071340, 1071341] \n",
      " Количество уникальных значений в record_id - 30745 \n",
      "\n",
      "item_topic :\n",
      " ['Деньги', 'Дети', 'Женская психология', 'Женщины', 'Здоровье', 'Знаменитости', 'Интересные факты', 'Искусство', 'История', 'Красота'] Конец списка: ['Полезные советы', 'Психология', 'Путешествия', 'Рассказы', 'Россия', 'Семья', 'Скандалы', 'Туризм', 'Шоу', 'Юмор'] \n",
      " Количество уникальных значений в item_topic - 25 \n",
      "\n",
      "source_topic :\n",
      " ['Авто', 'Деньги', 'Дети', 'Еда', 'Здоровье', 'Знаменитости', 'Интерьеры', 'Искусство', 'История', 'Кино'] Конец списка: ['Ремонт', 'Россия', 'Сад и дача', 'Сделай сам', 'Семейные отношения', 'Семья', 'Спорт', 'Строительство', 'Технологии', 'Финансы'] \n",
      " Количество уникальных значений в source_topic - 26 \n",
      "\n",
      "age_segment :\n",
      " ['18-25', '26-30', '31-35', '36-40', '41-45', '45+'] Конец списка: ['18-25', '26-30', '31-35', '36-40', '41-45', '45+'] \n",
      " Количество уникальных значений в age_segment - 6 \n",
      "\n",
      "dt :\n",
      " [numpy.datetime64('2019-09-24T18:28:00.000000000'), numpy.datetime64('2019-09-24T18:29:00.000000000'), numpy.datetime64('2019-09-24T18:30:00.000000000'), numpy.datetime64('2019-09-24T18:31:00.000000000'), numpy.datetime64('2019-09-24T18:32:00.000000000'), numpy.datetime64('2019-09-24T18:33:00.000000000'), numpy.datetime64('2019-09-24T18:34:00.000000000'), numpy.datetime64('2019-09-24T18:35:00.000000000'), numpy.datetime64('2019-09-24T18:52:00.000000000'), numpy.datetime64('2019-09-24T18:53:00.000000000')] Конец списка: [numpy.datetime64('2019-09-24T18:35:00.000000000'), numpy.datetime64('2019-09-24T18:52:00.000000000'), numpy.datetime64('2019-09-24T18:53:00.000000000'), numpy.datetime64('2019-09-24T18:54:00.000000000'), numpy.datetime64('2019-09-24T18:55:00.000000000'), numpy.datetime64('2019-09-24T18:56:00.000000000'), numpy.datetime64('2019-09-24T18:57:00.000000000'), numpy.datetime64('2019-09-24T18:58:00.000000000'), numpy.datetime64('2019-09-24T18:59:00.000000000'), numpy.datetime64('2019-09-24T19:00:00.000000000')] \n",
      " Количество уникальных значений в dt - 17 \n",
      "\n",
      "visits :\n",
      " [1, 2, 3, 4, 5, 6, 7, 8, 9, 10] Конец списка: [276, 283, 291, 297, 312, 324, 331, 349, 364, 371] \n",
      " Количество уникальных значений в visits - 212 \n",
      "\n",
      "\n",
      "Cписок характерных значений данных:\n"
     ]
    },
    {
     "data": {
      "text/html": [
       "<div>\n",
       "<style scoped>\n",
       "    .dataframe tbody tr th:only-of-type {\n",
       "        vertical-align: middle;\n",
       "    }\n",
       "\n",
       "    .dataframe tbody tr th {\n",
       "        vertical-align: top;\n",
       "    }\n",
       "\n",
       "    .dataframe thead th {\n",
       "        text-align: right;\n",
       "    }\n",
       "</style>\n",
       "<table border=\"1\" class=\"dataframe\">\n",
       "  <thead>\n",
       "    <tr style=\"text-align: right;\">\n",
       "      <th></th>\n",
       "      <th>record_id</th>\n",
       "      <th>visits</th>\n",
       "    </tr>\n",
       "  </thead>\n",
       "  <tbody>\n",
       "    <tr>\n",
       "      <th>count</th>\n",
       "      <td>30745.0</td>\n",
       "      <td>30745.0</td>\n",
       "    </tr>\n",
       "    <tr>\n",
       "      <th>mean</th>\n",
       "      <td>1055969.0</td>\n",
       "      <td>10.1</td>\n",
       "    </tr>\n",
       "    <tr>\n",
       "      <th>std</th>\n",
       "      <td>8875.5</td>\n",
       "      <td>19.7</td>\n",
       "    </tr>\n",
       "    <tr>\n",
       "      <th>min</th>\n",
       "      <td>1040597.0</td>\n",
       "      <td>1.0</td>\n",
       "    </tr>\n",
       "    <tr>\n",
       "      <th>25%</th>\n",
       "      <td>1048283.0</td>\n",
       "      <td>1.0</td>\n",
       "    </tr>\n",
       "    <tr>\n",
       "      <th>50%</th>\n",
       "      <td>1055969.0</td>\n",
       "      <td>3.0</td>\n",
       "    </tr>\n",
       "    <tr>\n",
       "      <th>75%</th>\n",
       "      <td>1063655.0</td>\n",
       "      <td>10.0</td>\n",
       "    </tr>\n",
       "    <tr>\n",
       "      <th>max</th>\n",
       "      <td>1071341.0</td>\n",
       "      <td>371.0</td>\n",
       "    </tr>\n",
       "  </tbody>\n",
       "</table>\n",
       "</div>"
      ],
      "text/plain": [
       "       record_id   visits\n",
       "count    30745.0  30745.0\n",
       "mean   1055969.0     10.1\n",
       "std       8875.5     19.7\n",
       "min    1040597.0      1.0\n",
       "25%    1048283.0      1.0\n",
       "50%    1055969.0      3.0\n",
       "75%    1063655.0     10.0\n",
       "max    1071341.0    371.0"
      ]
     },
     "metadata": {},
     "output_type": "display_data"
    }
   ],
   "source": [
    "checking_data(dash_visits)"
   ]
  },
  {
   "cell_type": "markdown",
   "id": "1538450c",
   "metadata": {},
   "source": [
    "Очевидно, что данные в хорошем состоянии, - дубликаты и пропуски отсутствуют, тип данных в столбцах соответствует их содержанию, нет явных ошибочных значений. Несколько настораживает количество визитов в верхней границе диапазона, тем более, что мы видим, что 75% пользователей совершают не более 10 визитов, а максимальное значение по этому столюбцу - 371. Поэтому, для более полного представления о распределении значений взглянем на гистограммы по столбцам visits и dt:"
   ]
  },
  {
   "cell_type": "code",
   "execution_count": 6,
   "id": "125a2833",
   "metadata": {
    "scrolled": false
   },
   "outputs": [
    {
     "data": {
      "image/png": "[encoded data removed]",
      "text/plain": [
       "<Figure size 1152x360 with 2 Axes>"
      ]
     },
     "metadata": {
      "needs_background": "light"
     },
     "output_type": "display_data"
    }
   ],
   "source": [
    "dash_visits.query('visits <=100').hist(column=['visits', 'dt'], bins=100, figsize=(16, 5));"
   ]
  },
  {
   "cell_type": "markdown",
   "id": "e96b121a",
   "metadata": {},
   "source": [
    "Из полученной картины мы видим, что, вероятно, всё, что касается более 40 посещений можно было бы отнести к выбросам, однако, в рамках подготовки данных здесь мы ничего предпринимать не будем и продолжим работу с датасетом в Tabletau. Решение по коррекции данных будем принимать в случае, если получим очевидно неправдоподобную картину в дашборде. Из датасета уберём index, тем более, что все record_id уникальны и для дальнейшей работы он не нужен."
   ]
  },
  {
   "cell_type": "code",
   "execution_count": 7,
   "id": "37af49df",
   "metadata": {},
   "outputs": [],
   "source": [
    "#экспортируем файл как csv\n",
    "dash_visits.to_csv('dash_visits.csv', sep=',', index=False)"
   ]
  },
  {
   "cell_type": "markdown",
   "id": "9066bd34",
   "metadata": {},
   "source": [
    "На основании полученных данных создан дашборд, доступный по [ссылке](https://public.tableau.com/app/profile/andrew1293/viz/Yandexdzen_16587668534750/Yandexdzen?publish=yes), а также краткая [презентация](https://disk.yandex.ru/i/b39vzbOZlhrJ9Q)."
   ]
  }
 ],
 "metadata": {
  "celltoolbar": "Отсутствует",
  "kernelspec": {
   "display_name": "Python 3 (ipykernel)",
   "language": "python",
   "name": "python3"
  },
  "language_info": {
   "codemirror_mode": {
    "name": "ipython",
    "version": 3
   },
   "file_extension": ".py",
   "mimetype": "text/x-python",
   "name": "python",
   "nbconvert_exporter": "python",
   "pygments_lexer": "ipython3",
   "version": "3.9.13"
  },
  "toc": {
   "base_numbering": 1,
   "nav_menu": {},
   "number_sections": true,
   "sideBar": true,
   "skip_h1_title": false,
   "title_cell": "Table of Contents",
   "title_sidebar": "Contents",
   "toc_cell": false,
   "toc_position": {},
   "toc_section_display": true,
   "toc_window_display": false
  }
 },
 "nbformat": 4,
 "nbformat_minor": 5
}
